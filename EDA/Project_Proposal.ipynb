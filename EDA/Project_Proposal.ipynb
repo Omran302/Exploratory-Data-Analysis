{
 "cells": [
  {
   "cell_type": "markdown",
   "id": "2ea71b5a",
   "metadata": {},
   "source": [
    "# Exploratory Data Analysis Project proposal"
   ]
  },
  {
   "cell_type": "markdown",
   "id": "e3181f97",
   "metadata": {},
   "source": [
    "### Project Description"
   ]
  },
  {
   "cell_type": "markdown",
   "id": "8487a218",
   "metadata": {},
   "source": [
    "This project is by Abdullah & Omran ltd. which is an advertisement company that provides services to commercial companies that want a higher exposure for their products.\n",
    "The project provides value for the commercial companies by focusing on high traffic MTA stations to display their products in a specific time of day to attract the targeted demographic sample of customers that the company is looking for, which maximizes the exposure of their products and eventually leads to more sales.\n"
   ]
  },
  {
   "cell_type": "markdown",
   "id": "b30bb203",
   "metadata": {},
   "source": [
    "### Data Description"
   ]
  },
  {
   "cell_type": "markdown",
   "id": "fc0af30a",
   "metadata": {},
   "source": [
    "The dataset that will be used in this project is from New York Metropolitan Transportation Authority. The data will be downloaded as a .csv file.  The data sample is from 18th of Sep up to 25th of Sep, all samples are segmented into a week each.\n",
    "\n",
    "C/A = Control Area\n",
    "\n",
    "UNIT \t= Remote Unit for a station\n",
    "\n",
    "SCP = Subunit Channel Position represents a specific address for a device\n",
    "\n",
    "STATION = Represents the station name the device is located at\n",
    "\n",
    "LINENAME = Represents all train lines that can be boarded at this station\n",
    "\n",
    "DIVISION = Represents the Line originally the station belonged\n",
    "\n",
    "DATE= Represents the date (MM-DD-YY)\n",
    "\n",
    "TIME = Represents the time (hh:mm:ss) for a scheduled audit event\n",
    "\n",
    "DESc = Represent the \"REGULAR\" scheduled audit event\n",
    "\n",
    "ENTRIES= The cumulative entry register value for a device\n",
    "\n",
    "EXIST= The cumulative exit register value for a device\n"
   ]
  },
  {
   "cell_type": "markdown",
   "id": "7b75955f",
   "metadata": {},
   "source": [
    "### Tools"
   ]
  },
  {
   "cell_type": "markdown",
   "id": "bb8f3aac",
   "metadata": {},
   "source": [
    "The tools used in this project are*:\n",
    "\n",
    "- Python\n",
    "- Pandas\n",
    "- Matplotlib and Seaborn for Visualization\n",
    "- NumPy\n",
    "\n",
    "\n",
    "*The tools might change in the future depending on the requirements of the project.\n"
   ]
  },
  {
   "cell_type": "markdown",
   "id": "0bd9daf1",
   "metadata": {},
   "source": [
    "### Minimum Viable Product"
   ]
  },
  {
   "cell_type": "markdown",
   "id": "e07d4466",
   "metadata": {},
   "source": [
    "The minimum viable product of this project is determining the busiest stations of New York MTA and setting up our billboards there. After that, depending on our clients targeted demographic sample of customers our company will display their products during the time that will give the product the highest amount of exposure to the targeted demographic. Depending on the targeted demographic sample of customers of each client our model will determine which time is appropriate for which product."
   ]
  },
  {
   "cell_type": "markdown",
   "id": "7b23f8b9",
   "metadata": {},
   "source": [
    "\n",
    "Prepared by: \n",
    "\n",
    "Abdullah AlHuwaishel\n",
    "\n",
    "Omran Fallatah\n",
    "\n",
    "Supervised by:\n",
    "Srinvas Rao\n"
   ]
  }
 ],
 "metadata": {
  "kernelspec": {
   "display_name": "Python 3",
   "language": "python",
   "name": "python3"
  },
  "language_info": {
   "codemirror_mode": {
    "name": "ipython",
    "version": 3
   },
   "file_extension": ".py",
   "mimetype": "text/x-python",
   "name": "python",
   "nbconvert_exporter": "python",
   "pygments_lexer": "ipython3",
   "version": "3.8.8"
  }
 },
 "nbformat": 4,
 "nbformat_minor": 5
}
